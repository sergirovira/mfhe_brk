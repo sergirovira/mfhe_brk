{
 "cells": [
  {
   "cell_type": "code",
   "execution_count": 137,
   "metadata": {},
   "outputs": [
    {
     "name": "stdout",
     "output_type": "stream",
     "text": [
      "{'params': 'B = 7, l = 4', 'bsk_error': 44.76824025542895, 'blind_rotation_time': 1269884.0, 'key_switch_time': 2643.0, 'bootstrap_error': 61.63345580124203, 'bootstrap_error32': 29.633455276489258}\n",
      "{'params': 'B = 8, l = 4', 'bsk_error': 40.81484775167536, 'blind_rotation_time': 914174.0, 'key_switch_time': 2990.0, 'bootstrap_error': 59.87780317924316, 'bootstrap_error32': 27.877803802490234}\n",
      "{'params': 'B = 9, l = 4', 'bsk_error': 37.926309976743795, 'blind_rotation_time': 1091895.0, 'key_switch_time': 2921.0, 'bootstrap_error': 54.93932162320944, 'bootstrap_error32': 22.939313888549805}\n",
      "{'params': 'B = 10, l = 4', 'bsk_error': 37.89945516006426, 'blind_rotation_time': 745861.0, 'key_switch_time': 2200.0, 'bootstrap_error': 57.89920926244911, 'bootstrap_error32': 25.899208068847656}\n",
      "{'params': 'B = 11, l = 4', 'bsk_error': 39.541858571032094, 'blind_rotation_time': 739486.0, 'key_switch_time': 2141.0, 'bootstrap_error': 58.8354362214293, 'bootstrap_error32': 26.83543586730957}\n",
      "{'params': 'B = 12, l = 4', 'bsk_error': 39.90235009919069, 'blind_rotation_time': 740960.0, 'key_switch_time': 2139.0, 'bootstrap_error': 60.68666915813516, 'bootstrap_error32': 28.686668395996094}\n",
      "{'params': 'B = 13, l = 4', 'bsk_error': 40.87271394245937, 'blind_rotation_time': 863947.0, 'key_switch_time': 2363.0, 'bootstrap_error': 62.659588188821104, 'bootstrap_error32': 30.659587860107422}\n",
      "{'params': 'B = 14, l = 4', 'bsk_error': 42.43109967108225, 'blind_rotation_time': 1001788.0, 'key_switch_time': 4885.0, 'bootstrap_error': 62.73529501261539, 'bootstrap_error32': 30.735294342041016}\n",
      "{'params': 'B = 15, l = 4', 'bsk_error': 43.064255956512554, 'blind_rotation_time': 819480.0, 'key_switch_time': 2339.0, 'bootstrap_error': 61.15259966521859, 'bootstrap_error32': 29.152599334716797}\n",
      "{'params': 'B = 7, l = 5', 'bsk_error': 38.77175818526609, 'blind_rotation_time': 2368889.0, 'key_switch_time': 3982.0, 'bootstrap_error': 56.37432154675634, 'bootstrap_error32': 24.37432289123535}\n",
      "{'params': 'B = 8, l = 5', 'bsk_error': 36.82143317814629, 'blind_rotation_time': 991615.0, 'key_switch_time': 2490.0, 'bootstrap_error': 54.32778097912596, 'bootstrap_error32': 22.327796936035156}\n",
      "{'params': 'B = 9, l = 5', 'bsk_error': 37.57516505061707, 'blind_rotation_time': 973657.0, 'key_switch_time': 2557.0, 'bootstrap_error': 55.16879543827618, 'bootstrap_error32': 23.168794631958008}\n",
      "{'params': 'B = 10, l = 5', 'bsk_error': 38.02369742469522, 'blind_rotation_time': 915438.0, 'key_switch_time': 2145.0, 'bootstrap_error': 55.42937787244734, 'bootstrap_error32': 23.429378509521484}\n",
      "{'params': 'B = 11, l = 5', 'bsk_error': 39.03585492668922, 'blind_rotation_time': 943677.0, 'key_switch_time': 2298.0, 'bootstrap_error': 59.3235987226399, 'bootstrap_error32': 27.323598861694336}\n",
      "{'params': 'B = 7, l = 6', 'bsk_error': 35.81806355372471, 'blind_rotation_time': 9935999.0, 'key_switch_time': 160218.0, 'bootstrap_error': 52.95054288353553, 'bootstrap_error32': 20.950590133666992}\n",
      "{'params': 'B = 8, l = 6', 'bsk_error': 36.70582446524112, 'blind_rotation_time': 9176327.0, 'key_switch_time': 2546.0, 'bootstrap_error': 55.26820053719577, 'bootstrap_error32': 23.268199920654297}\n",
      "{'params': 'B = 9, l = 6', 'bsk_error': 37.0237170002203, 'blind_rotation_time': 1230210.0, 'key_switch_time': 2645.0, 'bootstrap_error': 55.85145688286157, 'bootstrap_error32': 23.851451873779297}\n",
      "{'params': 'B = 7, l = 7', 'bsk_error': 35.89481149590871, 'blind_rotation_time': 1501404.0, 'key_switch_time': 2592.0, 'bootstrap_error': 53.59056376142492, 'bootstrap_error32': 21.590539932250977}\n",
      "{'params': 'B = 8, l = 7', 'bsk_error': 36.56208770797635, 'blind_rotation_time': 2048617.0, 'key_switch_time': 4080.0, 'bootstrap_error': 55.44739075907019, 'bootstrap_error32': 23.447397232055664}\n",
      "{'params': 'B = 7, l = 8', 'bsk_error': 35.61314114529676, 'blind_rotation_time': 13335087.0, 'key_switch_time': 16581.0, 'bootstrap_error': 54.21415576624819, 'bootstrap_error32': 22.214141845703125}\n"
     ]
    }
   ],
   "source": [
    "file1 = open('test_k16.txt', 'r')\n",
    "Lines = file1.readlines()\n",
    "\n",
    "count = 0\n",
    "block = 0\n",
    "\n",
    "params = []\n",
    "bsk_error = []\n",
    "blind_rotation_time = []\n",
    "sample_extract_time = []\n",
    "key_switch_time = []\n",
    "bootstrap_error = []\n",
    "plaintext_result = []\n",
    "\n",
    "params_d = {}\n",
    "\n",
    "param_dic = {}\n",
    "\n",
    "for line in Lines:\n",
    "    r = line.strip()\n",
    "    \n",
    "    if count%6 == 0:\n",
    "        param_dic['params'] = r\n",
    "    if count%6 == 1:\n",
    "        param_dic['bsk_error'] = float(r)\n",
    "    if count%6 == 2:\n",
    "        param_dic['blind_rotation_time'] = float(r)\n",
    "    if count%6 == 3:\n",
    "        key_switch_time.append(float(r))\n",
    "        param_dic['key_switch_time'] = float(r) \n",
    "    if count%6 == 4:\n",
    "        bootstrap_error.append(float(r))\n",
    "        param_dic['bootstrap_error'] = float(r)\n",
    "    if count%6 == 5:\n",
    "        bootstrap_error.append(float(r))\n",
    "        param_dic['bootstrap_error32'] = float(r)\n",
    "        \n",
    "        print(param_dic)\n",
    "        \n",
    "        params_d[block] = param_dic\n",
    "        param_dic = {}\n",
    "        block += 1\n",
    "        \n",
    "        \n",
    "    \n",
    "        \n",
    "    count += 1"
   ]
  },
  {
   "cell_type": "code",
   "execution_count": 138,
   "metadata": {},
   "outputs": [
    {
     "name": "stdout",
     "output_type": "stream",
     "text": [
      "B = 7, l = 4\n",
      "B = 8, l = 4\n",
      "B = 10, l = 4\n",
      "B = 11, l = 4\n",
      "B = 12, l = 4\n",
      "B = 13, l = 4\n",
      "B = 14, l = 4\n",
      "B = 15, l = 4\n",
      "B = 7, l = 5\n",
      "B = 11, l = 5\n"
     ]
    }
   ],
   "source": [
    "params_d_clean = {}\n",
    "\n",
    "for k in params_d.keys():\n",
    "    if params_d[k]['bootstrap_error'] < 56.0: \n",
    "        params_d_clean[k] = params_d[k]\n",
    "    else:\n",
    "        print(params_d[k]['params'])\n",
    "        "
   ]
  },
  {
   "cell_type": "code",
   "execution_count": 139,
   "metadata": {},
   "outputs": [
    {
     "name": "stdout",
     "output_type": "stream",
     "text": [
      "Best time blind rotation =  {'params': 'B = 10, l = 5', 'bsk_error': 38.02369742469522, 'blind_rotation_time': 915438.0, 'key_switch_time': 2145.0, 'bootstrap_error': 55.42937787244734, 'bootstrap_error32': 23.429378509521484}\n"
     ]
    }
   ],
   "source": [
    "min_k = 0\n",
    "m = 1000000000000000000000000\n",
    "\n",
    "for k in params_d_clean.keys():\n",
    "    if params_d_clean[k]['blind_rotation_time'] < m:\n",
    "        m = params_d_clean[k]['blind_rotation_time']\n",
    "        min_k = k\n",
    "\n",
    "\n",
    "print(\"Best time blind rotation = \",params_d_clean[min_k])\n"
   ]
  },
  {
   "cell_type": "code",
   "execution_count": 140,
   "metadata": {},
   "outputs": [
    {
     "name": "stdout",
     "output_type": "stream",
     "text": [
      "Best error =  {'params': 'B = 7, l = 6', 'bsk_error': 35.81806355372471, 'blind_rotation_time': 9935999.0, 'key_switch_time': 160218.0, 'bootstrap_error': 52.95054288353553, 'bootstrap_error32': 20.950590133666992}\n"
     ]
    }
   ],
   "source": [
    "min_k = 0\n",
    "m = 1000000000000000000000000\n",
    "\n",
    "for k in params_d_clean.keys():\n",
    "    if params_d_clean[k]['bootstrap_error'] < m:\n",
    "        m = params_d_clean[k]['bootstrap_error']\n",
    "        min_k = k\n",
    "\n",
    "\n",
    "print(\"Best error = \",params_d_clean[min_k])"
   ]
  },
  {
   "cell_type": "code",
   "execution_count": null,
   "metadata": {},
   "outputs": [],
   "source": []
  }
 ],
 "metadata": {
  "kernelspec": {
   "display_name": "Python 3",
   "language": "python",
   "name": "python3"
  },
  "language_info": {
   "codemirror_mode": {
    "name": "ipython",
    "version": 3
   },
   "file_extension": ".py",
   "mimetype": "text/x-python",
   "name": "python",
   "nbconvert_exporter": "python",
   "pygments_lexer": "ipython3",
   "version": "3.6.9"
  }
 },
 "nbformat": 4,
 "nbformat_minor": 2
}
