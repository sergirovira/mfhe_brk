{
 "cells": [
  {
   "cell_type": "code",
   "execution_count": 1,
   "metadata": {},
   "outputs": [
    {
     "name": "stdout",
     "output_type": "stream",
     "text": [
      "{'params': 'B = 7, l = 4', 'bsk_error': 46.80932989309532, 'blind_rotation_time': 152816.0, 'key_switch_time': 245.0, 'bootstrap_error': 60.345933880051525, 'bootstrap_error32': 28.34593391418457}\n",
      "{'params': 'B = 8, l = 4', 'bsk_error': 42.82308532085525, 'blind_rotation_time': 149714.0, 'key_switch_time': 244.0, 'bootstrap_error': 60.736556661412834, 'bootstrap_error32': 28.736557006835938}\n",
      "{'params': 'B = 9, l = 4', 'bsk_error': 38.998173689389084, 'blind_rotation_time': 151519.0, 'key_switch_time': 251.0, 'bootstrap_error': 58.55501729610335, 'bootstrap_error32': 26.555015563964844}\n",
      "{'params': 'B = 10, l = 4', 'bsk_error': 39.774513318926175, 'blind_rotation_time': 150669.0, 'key_switch_time': 269.0, 'bootstrap_error': 59.89861882740311, 'bootstrap_error32': 27.898618698120117}\n",
      "{'params': 'B = 11, l = 4', 'bsk_error': 40.72371505843286, 'blind_rotation_time': 165966.0, 'key_switch_time': 287.0, 'bootstrap_error': 61.77765830907338, 'bootstrap_error32': 29.777658462524414}\n",
      "{'params': 'B = 12, l = 4', 'bsk_error': 41.71163305412573, 'blind_rotation_time': 155841.0, 'key_switch_time': 256.0, 'bootstrap_error': 62.97320906602802, 'bootstrap_error32': 30.973209381103516}\n",
      "{'params': 'B = 13, l = 4', 'bsk_error': 42.573812189742036, 'blind_rotation_time': 154429.0, 'key_switch_time': 262.0, 'bootstrap_error': 62.5544700247805, 'bootstrap_error32': 30.55447006225586}\n",
      "{'params': 'B = 14, l = 4', 'bsk_error': 43.30514801659123, 'blind_rotation_time': 139138.0, 'key_switch_time': 241.0, 'bootstrap_error': 62.34840781329607, 'bootstrap_error32': 30.348407745361328}\n",
      "{'params': 'B = 15, l = 4', 'bsk_error': 44.183317196081454, 'blind_rotation_time': 139112.0, 'key_switch_time': 244.0, 'bootstrap_error': 57.3861950220258, 'bootstrap_error32': 25.38619613647461}\n",
      "{'params': 'B = 7, l = 5', 'bsk_error': 39.81816156359807, 'blind_rotation_time': 184587.0, 'key_switch_time': 244.0, 'bootstrap_error': 57.353661240563596, 'bootstrap_error32': 25.353660583496094}\n",
      "{'params': 'B = 8, l = 5', 'bsk_error': 37.61047291159816, 'blind_rotation_time': 195948.0, 'key_switch_time': 250.0, 'bootstrap_error': 54.86119506664011, 'bootstrap_error32': 22.86119842529297}\n",
      "{'params': 'B = 9, l = 5', 'bsk_error': 38.671291632134896, 'blind_rotation_time': 192904.0, 'key_switch_time': 252.0, 'bootstrap_error': 56.89170014861319, 'bootstrap_error32': 24.891700744628906}\n",
      "{'params': 'B = 10, l = 5', 'bsk_error': 39.34045339312125, 'blind_rotation_time': 245873.0, 'key_switch_time': 358.0, 'bootstrap_error': 60.22492589397665, 'bootstrap_error32': 28.224925994873047}\n",
      "{'params': 'B = 11, l = 5', 'bsk_error': 40.57824056668784, 'blind_rotation_time': 174948.0, 'key_switch_time': 259.0, 'bootstrap_error': 61.84647924900228, 'bootstrap_error32': 29.846479415893555}\n",
      "{'params': 'B = 7, l = 6', 'bsk_error': 37.33637232569547, 'blind_rotation_time': 233734.0, 'key_switch_time': 249.0, 'bootstrap_error': 50.59064597310664, 'bootstrap_error32': 18.5904483795166}\n",
      "{'params': 'B = 8, l = 6', 'bsk_error': 38.52001680924853, 'blind_rotation_time': 297504.0, 'key_switch_time': 342.0, 'bootstrap_error': 56.916067676736596, 'bootstrap_error32': 24.91607093811035}\n",
      "{'params': 'B = 9, l = 6', 'bsk_error': 38.89660095626075, 'blind_rotation_time': 225966.0, 'key_switch_time': 264.0, 'bootstrap_error': 59.291421101485184, 'bootstrap_error32': 27.29142189025879}\n",
      "{'params': 'B = 7, l = 7', 'bsk_error': 37.116894446591324, 'blind_rotation_time': 273816.0, 'key_switch_time': 246.0, 'bootstrap_error': 54.98135171667148, 'bootstrap_error32': 22.98133659362793}\n",
      "{'params': 'B = 8, l = 7', 'bsk_error': 38.09340991747593, 'blind_rotation_time': 261438.0, 'key_switch_time': 248.0, 'bootstrap_error': 54.544151888616724, 'bootstrap_error32': 22.54414176940918}\n",
      "{'params': 'B = 7, l = 8', 'bsk_error': 36.608119461205305, 'blind_rotation_time': 311747.0, 'key_switch_time': 264.0, 'bootstrap_error': 54.001112298500445, 'bootstrap_error32': 22.001102447509766}\n"
     ]
    }
   ],
   "source": [
    "file1 = open('test.txt', 'r')\n",
    "Lines = file1.readlines()\n",
    "\n",
    "count = 0\n",
    "block = 0\n",
    "\n",
    "params = []\n",
    "bsk_error = []\n",
    "blind_rotation_time = []\n",
    "sample_extract_time = []\n",
    "key_switch_time = []\n",
    "bootstrap_error = []\n",
    "plaintext_result = []\n",
    "\n",
    "params_d = {}\n",
    "\n",
    "param_dic = {}\n",
    "\n",
    "for line in Lines:\n",
    "    r = line.strip()\n",
    "    \n",
    "    if count%6 == 0:\n",
    "        param_dic['params'] = r\n",
    "    if count%6 == 1:\n",
    "        param_dic['bsk_error'] = float(r)\n",
    "    if count%6 == 2:\n",
    "        param_dic['blind_rotation_time'] = float(r)\n",
    "    if count%6 == 3:\n",
    "        key_switch_time.append(float(r))\n",
    "        param_dic['key_switch_time'] = float(r) \n",
    "    if count%6 == 4:\n",
    "        bootstrap_error.append(float(r))\n",
    "        param_dic['bootstrap_error'] = float(r)\n",
    "    if count%6 == 5:\n",
    "        bootstrap_error.append(float(r))\n",
    "        param_dic['bootstrap_error32'] = float(r)\n",
    "        \n",
    "        print(param_dic)\n",
    "        \n",
    "        params_d[block] = param_dic\n",
    "        param_dic = {}\n",
    "        block += 1\n",
    "        \n",
    "        \n",
    "    \n",
    "        \n",
    "    count += 1"
   ]
  },
  {
   "cell_type": "code",
   "execution_count": 138,
   "metadata": {},
   "outputs": [
    {
     "name": "stdout",
     "output_type": "stream",
     "text": [
      "B = 7, l = 4\n",
      "B = 8, l = 4\n",
      "B = 10, l = 4\n",
      "B = 11, l = 4\n",
      "B = 12, l = 4\n",
      "B = 13, l = 4\n",
      "B = 14, l = 4\n",
      "B = 15, l = 4\n",
      "B = 7, l = 5\n",
      "B = 11, l = 5\n"
     ]
    }
   ],
   "source": [
    "params_d_clean = {}\n",
    "\n",
    "for k in params_d.keys():\n",
    "    if params_d[k]['bootstrap_error'] < 56.0: \n",
    "        params_d_clean[k] = params_d[k]\n",
    "    else:\n",
    "        print(params_d[k]['params'])\n",
    "        "
   ]
  },
  {
   "cell_type": "code",
   "execution_count": 139,
   "metadata": {},
   "outputs": [
    {
     "name": "stdout",
     "output_type": "stream",
     "text": [
      "Best time blind rotation =  {'params': 'B = 10, l = 5', 'bsk_error': 38.02369742469522, 'blind_rotation_time': 915438.0, 'key_switch_time': 2145.0, 'bootstrap_error': 55.42937787244734, 'bootstrap_error32': 23.429378509521484}\n"
     ]
    }
   ],
   "source": [
    "min_k = 0\n",
    "m = 1000000000000000000000000\n",
    "\n",
    "for k in params_d_clean.keys():\n",
    "    if params_d_clean[k]['blind_rotation_time'] < m:\n",
    "        m = params_d_clean[k]['blind_rotation_time']\n",
    "        min_k = k\n",
    "\n",
    "\n",
    "print(\"Best time blind rotation = \",params_d_clean[min_k])\n"
   ]
  },
  {
   "cell_type": "code",
   "execution_count": 140,
   "metadata": {},
   "outputs": [
    {
     "name": "stdout",
     "output_type": "stream",
     "text": [
      "Best error =  {'params': 'B = 7, l = 6', 'bsk_error': 35.81806355372471, 'blind_rotation_time': 9935999.0, 'key_switch_time': 160218.0, 'bootstrap_error': 52.95054288353553, 'bootstrap_error32': 20.950590133666992}\n"
     ]
    }
   ],
   "source": [
    "min_k = 0\n",
    "m = 1000000000000000000000000\n",
    "\n",
    "for k in params_d_clean.keys():\n",
    "    if params_d_clean[k]['bootstrap_error'] < m:\n",
    "        m = params_d_clean[k]['bootstrap_error']\n",
    "        min_k = k\n",
    "\n",
    "\n",
    "print(\"Best error = \",params_d_clean[min_k])"
   ]
  },
  {
   "cell_type": "code",
   "execution_count": null,
   "metadata": {},
   "outputs": [],
   "source": []
  }
 ],
 "metadata": {
  "kernelspec": {
   "display_name": "Python 3",
   "language": "python",
   "name": "python3"
  },
  "language_info": {
   "codemirror_mode": {
    "name": "ipython",
    "version": 3
   },
   "file_extension": ".py",
   "mimetype": "text/x-python",
   "name": "python",
   "nbconvert_exporter": "python",
   "pygments_lexer": "ipython3",
   "version": "3.6.9"
  }
 },
 "nbformat": 4,
 "nbformat_minor": 2
}
